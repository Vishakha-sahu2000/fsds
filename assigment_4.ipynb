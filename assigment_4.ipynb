{
 "cells": [
  {
   "cell_type": "markdown",
   "id": "c4719a8f",
   "metadata": {},
   "source": [
    "Q1. Which two operator overloading methods can you use in your classes to support iteration"
   ]
  },
  {
   "cell_type": "markdown",
   "id": "b69c00d5",
   "metadata": {},
   "source": [
    "To support iteration in your classes, you can use the following two operator overloading methods:\n",
    "\n",
    "__iter__ method: This method enables the object to be iterated using a loop. It should return an iterator object that defines the __next__ method, which is responsible for returning the next value in the iteration. The __iter__ method is typically implemented in a class that represents a collection of elements, and it allows you to iterate over the elements of the collection.\n",
    "Here's an example implementation of the __iter__ method:"
   ]
  },
  {
   "cell_type": "code",
   "execution_count": 17,
   "id": "a292e6b0",
   "metadata": {},
   "outputs": [],
   "source": [
    "class MyCollection:\n",
    "    def __init__(self):\n",
    "        self.data = [1, 2, 3, 4, 5]\n",
    "    \n",
    "    def __iter__(self):\n",
    "        self.index = 0\n",
    "        return self\n",
    "    \n",
    "    def __next__(self):\n",
    "        if self.index >= len(self.data):\n",
    "            raise StopIteration\n",
    "        value = self.data[self.index]\n",
    "        self.index += 1\n",
    "        return value\n"
   ]
  },
  {
   "cell_type": "markdown",
   "id": "bb61a5b0",
   "metadata": {},
   "source": [
    "By implementing the __iter__ method, you can use objects of the MyCollection class "
   ]
  },
  {
   "cell_type": "code",
   "execution_count": 18,
   "id": "af73036e",
   "metadata": {},
   "outputs": [
    {
     "name": "stdout",
     "output_type": "stream",
     "text": [
      "1\n",
      "2\n",
      "3\n",
      "4\n",
      "5\n"
     ]
    }
   ],
   "source": [
    "collection = MyCollection()\n",
    "for item in collection:\n",
    "    print(item)\n"
   ]
  },
  {
   "cell_type": "markdown",
   "id": "948620a1",
   "metadata": {},
   "source": [
    "__getitem__ method: This method allows objects to support indexing and slicing operations. It enables you to access elements of an object using square brackets []. By overloading this method, you can define custom behavior for retrieving elements from your class.\n",
    "Here's an example implementation of the __getitem__ method:"
   ]
  },
  {
   "cell_type": "code",
   "execution_count": 19,
   "id": "2a9fef29",
   "metadata": {},
   "outputs": [],
   "source": [
    "class MyCollection:\n",
    "    def __init__(self):\n",
    "        self.data = [1, 2, 3, 4, 5]\n",
    "    \n",
    "    def __getitem__(self, index):\n",
    "        return self.data[index]\n"
   ]
  },
  {
   "cell_type": "markdown",
   "id": "cec77a3f",
   "metadata": {},
   "source": [
    "With the __getitem__ method implemented, you can use indexing and slicing on objects of the MyCollection class:"
   ]
  },
  {
   "cell_type": "markdown",
   "id": "ef4e3ccd",
   "metadata": {},
   "source": [
    "Note that by implementing __getitem__, you can also use the object in a loop by combining it with the range function:"
   ]
  },
  {
   "cell_type": "code",
   "execution_count": 22,
   "id": "ef3d9435",
   "metadata": {},
   "outputs": [
    {
     "name": "stdout",
     "output_type": "stream",
     "text": [
      "3\n",
      "[2, 3, 4]\n"
     ]
    }
   ],
   "source": [
    "collection = MyCollection()\n",
    "print(collection[2])  \n",
    "print(collection[1:4]) \n"
   ]
  },
  {
   "cell_type": "markdown",
   "id": "3011ffbd",
   "metadata": {},
   "source": [
    "Note that by implementing __getitem__, you can also use the object in a loop by combining it with the range function:"
   ]
  },
  {
   "cell_type": "markdown",
   "id": "771cc4d2",
   "metadata": {},
   "source": [
    "Both the __iter__ and __getitem__ methods provide ways to enable iteration on your custom classes, but they serve different purposes. The __iter__ method is used when you want to define a custom iterator for your class, while the __getitem__ method is used when you want to support indexing and slicing operations."
   ]
  },
  {
   "cell_type": "markdown",
   "id": "7b9098de",
   "metadata": {},
   "source": [
    "\n",
    "Q2. In what contexts do the two operator overloading methods manage printing?"
   ]
  },
  {
   "cell_type": "markdown",
   "id": "e7105240",
   "metadata": {},
   "source": [
    "The two operator overloading methods, __iter__ and __getitem__, do not directly manage printing. Their primary purposes are to enable iteration and indexing/slicing operations, respectively. However, they can indirectly affect printing in certain contexts. Let's explore how each method can be related to printing:\n",
    "\n",
    "__iter__ method: The __iter__ method is used to implement custom iteration behavior for objects. It returns an iterator object, which defines the __next__ method responsible for returning the next value in the iteration. While the __iter__ method itself doesn't directly manage printing, it enables the use of iterable objects in various printing contexts, such as with the for loop or by using the print function with the iterable object as an argument. The printing occurs when you access or iterate over the elements of the iterable object returned by __iter__.\n",
    "\n",
    "__getitem__ method: The __getitem__ method is used to enable indexing and slicing operations on objects. It allows you to access elements of an object using square brackets []. While the __getitem__ method doesn't specifically manage printing, it can indirectly affect printing in certain cases. For example, if you print an object that implements __getitem__, the object's string representation will be displayed, which can include information about the elements retrieved using indexing or slicing.\n",
    "\n",
    "Here's an example to illustrate the relationship between __getitem__ and printing:"
   ]
  },
  {
   "cell_type": "code",
   "execution_count": 26,
   "id": "adf773f1",
   "metadata": {},
   "outputs": [
    {
     "name": "stdout",
     "output_type": "stream",
     "text": [
      "3\n",
      "[2, 3, 4]\n",
      "<__main__.MyCollection object at 0x00000273554B9A60>\n"
     ]
    }
   ],
   "source": [
    "class MyCollection:\n",
    "    def __init__(self):\n",
    "        self.data = [1, 2, 3, 4, 5]\n",
    "    \n",
    "    def __getitem__(self, index):\n",
    "        return self.data[index]\n",
    "\n",
    "collection = MyCollection()\n",
    "print(collection[2]) \n",
    "print(collection[1:4])  \n",
    "print(collection) "
   ]
  },
  {
   "cell_type": "markdown",
   "id": "8036b9ad",
   "metadata": {},
   "source": [
    "In the above example, the __getitem__ method enables the indexing and slicing operations on the collection object. When you print collection[2], it prints the value 3 because indexing is used. Similarly, collection[1:4] prints the sliced list [2, 3, 4]. However, when you directly print the collection object, it displays its default string representation, which indicates the class and memory address of the object.\n",
    "\n",
    "In summary, while the __iter__ and __getitem__ methods themselves do not manage printing directly, they enable the use of objects in printing contexts and can indirectly affect the output displayed during printing."
   ]
  },
  {
   "cell_type": "markdown",
   "id": "49d0df47",
   "metadata": {},
   "source": [
    "\n",
    "Q3. In a class, how do you intercept slice operations?\n"
   ]
  },
  {
   "cell_type": "markdown",
   "id": "752e688e",
   "metadata": {},
   "source": [
    "ans:\n",
    "To intercept slice operations in a class, you can use the __getitem__ method and handle slicing logic within it. The __getitem__ method allows objects to support indexing and slicing operations, and it is called when you use square brackets [] with an object.\n",
    "\n",
    "When a slice operation is performed on an object, the __getitem__ method is called with a slice object as the index argument. The slice object represents the start, stop, and step parameters of the slice.\n",
    "\n",
    "Here's an example implementation of the __getitem__ method to intercept slice operations:"
   ]
  },
  {
   "cell_type": "code",
   "execution_count": 8,
   "id": "e6ed6e0b",
   "metadata": {},
   "outputs": [],
   "source": [
    "class MyCollection:\n",
    "    def __init__(self):\n",
    "        self.data = [1, 2, 3, 4, 5]\n",
    "    \n",
    "    def __getitem__(self, index):\n",
    "        if isinstance(index, slice):\n",
    "            start, stop, step = index.indices(len(self.data))\n",
    "            return [self.data[i] for i in range(start, stop, step)]\n",
    "        else:\n",
    "            return self.data[index]\n"
   ]
  },
  {
   "cell_type": "markdown",
   "id": "8ff5c0d0",
   "metadata": {},
   "source": [
    "in the above example, within the __getitem__ method, we check if the index argument is an instance of the slice class using the isinstance() function. If it is, we extract the start, stop, and step values from the slice object using the indices() method, passing the length of the data list as the argument. Then, we use a list comprehension to retrieve the elements of the data list based on the start, stop, and step values.\n",
    "\n",
    "If the index argument is not a slice object, we assume it represents a single index and return the corresponding element from the data list.\n",
    "\n",
    "Here's how you can use the intercepted slice operations:"
   ]
  },
  {
   "cell_type": "code",
   "execution_count": 9,
   "id": "94fb1f59",
   "metadata": {},
   "outputs": [
    {
     "name": "stdout",
     "output_type": "stream",
     "text": [
      "[2, 3, 4]\n",
      "[1, 2, 3]\n",
      "[1, 3, 5]\n"
     ]
    }
   ],
   "source": [
    "collection = MyCollection()\n",
    "print(collection[1:4])  \n",
    "print(collection[:3])\n",
    "print(collection[::2]) "
   ]
  },
  {
   "cell_type": "markdown",
   "id": "397f8ca0",
   "metadata": {},
   "source": [
    "Q4. In a class, how do you capture in-place addition?\n"
   ]
  },
  {
   "cell_type": "markdown",
   "id": "8d3c6f83",
   "metadata": {},
   "source": [
    "ans:\n",
    "To capture in-place addition in a class, you can use the __iadd__ method. The __iadd__ method is invoked when the += operator is used to perform an in-place addition operation on an object.\n",
    "\n",
    "Here's an example implementation of the __iadd__ method to capture in-place addition"
   ]
  },
  {
   "cell_type": "code",
   "execution_count": 10,
   "id": "d07fab2f",
   "metadata": {},
   "outputs": [],
   "source": [
    "class MyClass:\n",
    "    def __init__(self, value):\n",
    "        self.value = value\n",
    "    \n",
    "    def __iadd__(self, other):\n",
    "        if isinstance(other, MyClass):\n",
    "            self.value += other.value\n",
    "        else:\n",
    "            self.value += other\n",
    "        return self\n"
   ]
  },
  {
   "cell_type": "markdown",
   "id": "aa9306d3",
   "metadata": {},
   "source": [
    "In the above example, the __iadd__ method is defined to handle in-place addition. If the other argument is an instance of MyClass, it adds the value of other.value to the current object's value attribute. Otherwise, if other is of a different type, it assumes it is a compatible value and adds it directly to the current object's value.\n",
    "\n",
    "The __iadd__ method should modify the current object in place and return the modified object."
   ]
  },
  {
   "cell_type": "code",
   "execution_count": 11,
   "id": "c7b5792b",
   "metadata": {},
   "outputs": [
    {
     "name": "stdout",
     "output_type": "stream",
     "text": [
      "5\n",
      "10\n",
      "15\n",
      "18\n"
     ]
    }
   ],
   "source": [
    "obj1 = MyClass(5)\n",
    "obj2 = MyClass(10)\n",
    "print(obj1.value) \n",
    "print(obj2.value)  \n",
    "\n",
    "obj1 += obj2\n",
    "print(obj1.value)  \n",
    "\n",
    "obj1 += 3\n",
    "print(obj1.value)  \n"
   ]
  },
  {
   "cell_type": "code",
   "execution_count": 12,
   "id": "19a8d3c4",
   "metadata": {},
   "outputs": [
    {
     "ename": "SyntaxError",
     "evalue": "invalid syntax (<ipython-input-12-612bc8ab0334>, line 1)",
     "output_type": "error",
     "traceback": [
      "\u001b[1;36m  File \u001b[1;32m\"<ipython-input-12-612bc8ab0334>\"\u001b[1;36m, line \u001b[1;32m1\u001b[0m\n\u001b[1;33m    Q5. When is it appropriate to use operator overloading\u001b[0m\n\u001b[1;37m                   ^\u001b[0m\n\u001b[1;31mSyntaxError\u001b[0m\u001b[1;31m:\u001b[0m invalid syntax\n"
     ]
    }
   ],
   "source": [
    "Q5. When is it appropriate to use operator overloading"
   ]
  },
  {
   "cell_type": "markdown",
   "id": "f698212c",
   "metadata": {},
   "source": [
    "ans:\n",
    "Enhanced readability: Operator overloading can make your code more readable and intuitive by allowing you to use familiar operators on custom objects. For example, if you have a Vector class, overloading the + operator allows you to write v1 + v2 instead of calling a specific method like v1.add(v2).\n",
    "\n",
    "Mimicking built-in types: Operator overloading is often used to mimic the behavior of built-in types, such as numbers or containers. This allows your custom objects to work seamlessly with existing code that expects those operators to behave in a certain way. For example, overloading the * operator in a Matrix class to perform matrix multiplication enables you to write matrix1 * matrix2 instead of calling a custom method.\n",
    "\n",
    "Customized behavior: Operator overloading allows you to define custom behavior for operators on your objects. This can be useful when you want to provide specific semantics or operations that are meaningful for your class. For example, overloading the __getitem__ method allows you to implement indexing and slicing operations on your class.\n",
    "\n",
    "Simplified syntax: Operator overloading can provide a more concise and natural syntax for expressing operations on your objects. This can make your code more elegant and expressive, leading to improved readability and maintainability.\n",
    "\n",
    "Compatibility with standard library functions: Many standard library functions and modules rely on specific operators to work correctly. By overloading those operators, you can make your objects compatible with existing library functions and take advantage of their functionality.\n",
    "\n",
    "It's important to use operator overloading judiciously and consistently with established conventions to ensure that your code remains readable and understandable to other developers. Operator overloading should be used when it enhances the clarity and usability of your code, rather than just for the sake of convenience."
   ]
  },
  {
   "cell_type": "code",
   "execution_count": null,
   "id": "116b2f6e",
   "metadata": {},
   "outputs": [],
   "source": []
  },
  {
   "cell_type": "code",
   "execution_count": null,
   "id": "28886184",
   "metadata": {},
   "outputs": [],
   "source": []
  },
  {
   "cell_type": "code",
   "execution_count": null,
   "id": "646cf803",
   "metadata": {},
   "outputs": [],
   "source": []
  },
  {
   "cell_type": "code",
   "execution_count": null,
   "id": "e93401c9",
   "metadata": {},
   "outputs": [],
   "source": []
  },
  {
   "cell_type": "code",
   "execution_count": null,
   "id": "8c69503e",
   "metadata": {},
   "outputs": [],
   "source": []
  }
 ],
 "metadata": {
  "kernelspec": {
   "display_name": "Python 3",
   "language": "python",
   "name": "python3"
  },
  "language_info": {
   "codemirror_mode": {
    "name": "ipython",
    "version": 3
   },
   "file_extension": ".py",
   "mimetype": "text/x-python",
   "name": "python",
   "nbconvert_exporter": "python",
   "pygments_lexer": "ipython3",
   "version": "3.8.8"
  }
 },
 "nbformat": 4,
 "nbformat_minor": 5
}
