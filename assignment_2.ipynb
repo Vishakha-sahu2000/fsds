{
 "cells": [
  {
   "cell_type": "markdown",
   "id": "433aaa35",
   "metadata": {},
   "source": [
    "1.What are the two values of the Boolean data type? How do you write them?"
   ]
  },
  {
   "cell_type": "markdown",
   "id": "b2daca69",
   "metadata": {},
   "source": [
    "ans\n",
    "The Boolean data type in Python represents truth values. It has two possible values:\n",
    "\n",
    "True: Represents the truth or the value of \"true\". It is written as True (with an uppercase \"T\" at the beginning).\n",
    "\n",
    "False: Represents the falsehood or the value of \"false\". It is written as False (with an uppercase \"F\" at the beginning)."
   ]
  },
  {
   "cell_type": "code",
   "execution_count": 1,
   "id": "ea5ba6cb",
   "metadata": {},
   "outputs": [
    {
     "name": "stdout",
     "output_type": "stream",
     "text": [
      "This statement will be executed because x is True.\n",
      "This statement will be executed because y is False.\n"
     ]
    }
   ],
   "source": [
    "x = True\n",
    "y = False\n",
    "\n",
    "if x:\n",
    "    print(\"This statement will be executed because x is True.\")\n",
    "else:\n",
    "    print(\"This statement will not be executed.\")\n",
    "\n",
    "if not y:\n",
    "    print(\"This statement will be executed because y is False.\")\n",
    "else:\n",
    "    print(\"This statement will not be executed.\")\n"
   ]
  },
  {
   "cell_type": "markdown",
   "id": "b01e2c30",
   "metadata": {},
   "source": [
    "2. What are the three different types of Boolean operators?"
   ]
  },
  {
   "cell_type": "markdown",
   "id": "cd1ec33e",
   "metadata": {},
   "source": [
    "ans\n",
    "Logical AND (and): The logical AND operator returns True if both operands are True, and False otherwise. It evaluates the second operand only if the first operand is True."
   ]
  },
  {
   "cell_type": "code",
   "execution_count": 2,
   "id": "91daf641",
   "metadata": {},
   "outputs": [
    {
     "name": "stdout",
     "output_type": "stream",
     "text": [
      "False\n"
     ]
    }
   ],
   "source": [
    "x = True\n",
    "y = False\n",
    "\n",
    "result = x and y\n",
    "print(result) \n"
   ]
  },
  {
   "cell_type": "markdown",
   "id": "4159d950",
   "metadata": {},
   "source": [
    "Logical OR (or): The logical OR operator returns True if at least one of the operands is True, and False if both operands are False. It evaluates the second operand only if the first operand is False."
   ]
  },
  {
   "cell_type": "code",
   "execution_count": 3,
   "id": "e10a6820",
   "metadata": {},
   "outputs": [
    {
     "name": "stdout",
     "output_type": "stream",
     "text": [
      "True\n"
     ]
    }
   ],
   "source": [
    "x = True\n",
    "y = False\n",
    "\n",
    "result = x or y\n",
    "print(result) \n"
   ]
  },
  {
   "cell_type": "markdown",
   "id": "81b4dac6",
   "metadata": {},
   "source": [
    "Logical NOT (not): The logical NOT operator negates the Boolean value of an operand. It returns True if the operand is False, and False if the operand is True."
   ]
  },
  {
   "cell_type": "code",
   "execution_count": 4,
   "id": "3f0322b6",
   "metadata": {},
   "outputs": [
    {
     "name": "stdout",
     "output_type": "stream",
     "text": [
      "False\n"
     ]
    }
   ],
   "source": [
    "x = True\n",
    "\n",
    "result = not x\n",
    "print(result)  \n"
   ]
  },
  {
   "cell_type": "markdown",
   "id": "7b919b48",
   "metadata": {},
   "source": [
    "3. Make a list of each Boolean operator's truth tables (i.e. every possible combination of Boolean values for the operator and what it evaluate )."
   ]
  },
  {
   "cell_type": "markdown",
   "id": "4e6a7c09",
   "metadata": {},
   "source": [
    "ans:\n",
    "Logical AND (and):\n",
    "Operand 1\tOperand 2\tResult\n",
    "True\t   True\t         True\n",
    "True\t   False\t     False\n",
    "False\t   True\t         False\n",
    "False\t   False\t     False"
   ]
  },
  {
   "cell_type": "markdown",
   "id": "f77440b4",
   "metadata": {},
   "source": [
    "Logical OR (or):\n",
    "Operand 1\tOperand 2\tResult\n",
    "    True\tTrue\tTrue\n",
    "    True\tFalse\tTrue\n",
    "    False\tTrue\tTrue\n",
    "    False\tFalse\tFalse\n",
    "\n",
    "Logical NOT (not):\n",
    "Operand\tResult\n",
    "True\tFalse\n",
    "False\tTrue"
   ]
  },
  {
   "cell_type": "markdown",
   "id": "88208495",
   "metadata": {},
   "source": [
    "4. What are the values of the following expressions?\n",
    "(5 > 4) and (3 == 5)\n",
    "not (5 > 4)\n",
    "(5 > 4) or (3 == 5)\n",
    "not ((5 > 4) or (3 == 5))\n",
    "(True and True) and (True == False)\n",
    "(not False) or (not True)"
   ]
  },
  {
   "cell_type": "markdown",
   "id": "6fa45f1a",
   "metadata": {},
   "source": [
    "Let's evaluate the given expressions:\n",
    "\n",
    "(5 > 4) and (3 == 5)\n",
    "\n",
    "The expression (5 > 4) evaluates to True.\n",
    "The expression (3 == 5) evaluates to False.\n",
    "The and operator returns True only if both operands are True.\n",
    "Since one of the operands is False, the overall expression evaluates to False.\n",
    "Result: False\n",
    "\n",
    "not (5 > 4)\n",
    "\n",
    "The expression (5 > 4) evaluates to True.\n",
    "The not operator negates the Boolean value of the operand.\n",
    "Since the operand is True, not (5 > 4) evaluates to False.\n",
    "Result: False\n",
    "\n",
    "(5 > 4) or (3 == 5)\n",
    "\n",
    "The expression (5 > 4) evaluates to True.\n",
    "The expression (3 == 5) evaluates to False.\n",
    "The or operator returns True if at least one of the operands is True.\n",
    "Since one of the operands is True, the overall expression evaluates to True.\n",
    "Result: True\n",
    "\n",
    "not ((5 > 4) or (3 == 5))\n",
    "\n",
    "The expression (5 > 4) or (3 == 5) evaluates to True.\n",
    "The not operator negates the Boolean value of the operand.\n",
    "Since the operand is True, not ((5 > 4) or (3 == 5)) evaluates to False.\n",
    "Result: False\n",
    "\n",
    "(True and True) and (True == False)\n",
    "\n",
    "The expression (True and True) evaluates to True.\n",
    "The expression (True == False) evaluates to False.\n",
    "The and operator returns True only if both operands are True.\n",
    "Since one of the operands is False, the overall expression evaluates to False.\n",
    "Result: False\n",
    "\n",
    "(not False) or (not True)\n",
    "\n",
    "The expression not False evaluates to True.\n",
    "The expression not True evaluates to False.\n",
    "The or operator returns True if at least one of the operands is True.\n",
    "Since one of the operands is True, the overall expression evaluates to True.\n",
    "Result: True\n",
    "\n",
    "These are the values of the given expressions based on the evaluation of the Boolean conditions and the application of logical operators."
   ]
  },
  {
   "cell_type": "code",
   "execution_count": null,
   "id": "cbf37153",
   "metadata": {},
   "outputs": [],
   "source": [
    "5. What are the six comparison operators?"
   ]
  },
  {
   "cell_type": "markdown",
   "id": "cd4e60ff",
   "metadata": {},
   "source": [
    "ans:\n",
    "The six comparison operators are as follows:\n",
    "\n",
    "Equal to (==): Checks if two operands are equal in value.\n",
    "\n",
    "Not equal to (!=): Checks if two operands are not equal in value.\n",
    "\n",
    "Greater than (>): Checks if the left operand is greater than the right operand.\n",
    "\n",
    "Less than (<): Checks if the left operand is less than the right operand.\n",
    "\n",
    "Greater than or equal to (>=): Checks if the left operand is greater than or equal to the right operand.\n",
    "\n",
    "Less than or equal to (<=): Checks if the left operand is less than or equal to the right operand."
   ]
  },
  {
   "cell_type": "code",
   "execution_count": 5,
   "id": "69380782",
   "metadata": {},
   "outputs": [
    {
     "name": "stdout",
     "output_type": "stream",
     "text": [
      "False\n",
      "True\n",
      "False\n",
      "True\n",
      "False\n",
      "True\n"
     ]
    }
   ],
   "source": [
    "x = 5\n",
    "y = 10\n",
    "\n",
    "print(x == y)   \n",
    "print(x != y)  \n",
    "print(x > y)    \n",
    "print(x < y)    \n",
    "print(x >= y)   \n",
    "print(x <= y)  "
   ]
  },
  {
   "cell_type": "markdown",
   "id": "7978e845",
   "metadata": {},
   "source": [
    "6. How do you tell the difference between the equal to and assignment operators?Describe a condition and when you would use one."
   ]
  },
  {
   "cell_type": "markdown",
   "id": "9f0541c2",
   "metadata": {},
   "source": [
    "ans\n",
    "To differentiate between the equal to (==) operator and the assignment (=) operator, consider the following:\n",
    "\n",
    "Equal to operator (==): The double equals (==) operator is used for comparison. It checks if two values are equal and returns a Boolean result (True or False) based on the comparison.\n",
    "\n",
    "Assignment operator (=): The single equals (=) operator is used for assignment. It assigns a value on the right side to the variable on the left side."
   ]
  },
  {
   "cell_type": "code",
   "execution_count": 6,
   "id": "6abb3505",
   "metadata": {},
   "outputs": [
    {
     "name": "stdout",
     "output_type": "stream",
     "text": [
      "x is not equal to y\n"
     ]
    }
   ],
   "source": [
    "x = 3\n",
    "y = 10  \n",
    "\n",
    "if x == y:\n",
    "    print(\"x is equal to y\")\n",
    "else:\n",
    "    print(\"x is not equal to y\")\n"
   ]
  },
  {
   "cell_type": "markdown",
   "id": "10b9d516",
   "metadata": {},
   "source": [
    "assignment operator (=) is used when you want to assign a value to a variable, while the equal to operator (==) is used when you want to compare two values for equality."
   ]
  },
  {
   "cell_type": "markdown",
   "id": "f6c3e5ec",
   "metadata": {},
   "source": [
    "7. Identify the three blocks in this code:\n",
    "spam = 0\n",
    "if spam == 10:\n",
    "print('eggs')\n",
    "if spam > 5:\n",
    "print('bacon')\n",
    "else:\n",
    "print('ham')\n",
    "print('spam')\n",
    "print('spam')"
   ]
  },
  {
   "cell_type": "markdown",
   "id": "6faf3589",
   "metadata": {},
   "source": [
    "ans:\n",
    "if spam == 10:\n",
    "    print('eggs')\n",
    "This block is the first if statement. It checks if the variable spam is equal to 10 and, if true, it executes the indented code block, which contains the statement print('eggs')."
   ]
  },
  {
   "cell_type": "markdown",
   "id": "f7a4f3fb",
   "metadata": {},
   "source": [
    "if spam > 5:\n",
    "    print('bacon')\n",
    "This block is the second if statement. It checks if the variable spam is greater than 5 and, if true, it executes the indented code block, which contains the statement print('bacon')."
   ]
  },
  {
   "cell_type": "markdown",
   "id": "3f4980d7",
   "metadata": {},
   "source": [
    "else:\n",
    "    print('ham')\n",
    "print('spam')\n",
    "print('spam')\n",
    "This block consists of the else clause followed by three print statements. It is executed when the condition in the second if statement is false. The indented code block under the else clause contains the statement print('ham'). The subsequent three print statements are at the same indentation level and are executed regardless of the condition in the second if statement."
   ]
  },
  {
   "cell_type": "markdown",
   "id": "8d6a31a0",
   "metadata": {},
   "source": [
    "8. Write code that prints Hello if 1 is stored in spam, prints Howdy if 2 is stored in spam, and prints Greetings! if anything else is stored in spam.\n"
   ]
  },
  {
   "cell_type": "markdown",
   "id": "098e7ba9",
   "metadata": {},
   "source": [
    "spam =# Assign a value to spam variable\n",
    "\n",
    "if spam == 1:\n",
    "    print('Hello')\n",
    "elif spam == 2:\n",
    "    print('Howdy')\n",
    "else:\n",
    "    print('Greetings!')\n",
    "\n"
   ]
  },
  {
   "cell_type": "markdown",
   "id": "17dc1abc",
   "metadata": {},
   "source": [
    "9.If your programme is stuck in an endless loop, what keys you’ll press?"
   ]
  },
  {
   "cell_type": "markdown",
   "id": "21f15e04",
   "metadata": {},
   "source": [
    "ans:\n",
    "    If your program is stuck in an endless loop and you want to interrupt or stop its execution, you can use the following key combination:\n",
    "\n",
    "Ctrl + C (Press and hold the Control key, then press the C key): This key combination sends an interrupt signal to the running program, causing it to terminate."
   ]
  },
  {
   "cell_type": "markdown",
   "id": "24d6edfd",
   "metadata": {},
   "source": [
    "10. How can you tell the difference between break and continue?"
   ]
  },
  {
   "cell_type": "markdown",
   "id": "82072673",
   "metadata": {},
   "source": [
    "The `break` and `continue` statements are control flow statements used in loops (such as `for` and `while`) to alter the program's flow. Here's how you can differentiate between `break` and `continue`:\n",
    "\n",
    "1. `break` statement:\n",
    "   - The `break` statement is used to exit or terminate the innermost loop entirely.\n",
    "   - When encountered, it immediately exits the loop and continues executing the next statement after the loop.\n",
    "   - The `break` statement is typically used to prematurely terminate a loop based on a specific condition.\n",
    "   - It is commonly used with conditional statements (`if`, `else`) to control the loop termination.\n",
    "   - After the `break` statement is executed, the program flow moves outside the loop.\n",
    "\n",
    " \n",
    "\n",
    "2. `continue` statement:\n",
    "   - The `continue` statement is used to skip the remaining code within a loop iteration and move to the next iteration.\n",
    "   - When encountered, it bypasses the remaining statements in the loop body for the current iteration.\n",
    "   - The program flow jumps back to the loop condition, and the next iteration begins.\n",
    "   - The `continue` statement is typically used to skip specific iterations based on certain conditions.\n",
    "   - It allows you to control which iterations execute the subsequent code within the loop.\n",
    "\n",
    "\n",
    "\n"
   ]
  },
  {
   "cell_type": "code",
   "execution_count": 18,
   "id": "7143c50e",
   "metadata": {},
   "outputs": [
    {
     "name": "stdout",
     "output_type": "stream",
     "text": [
      "1\n",
      "2\n"
     ]
    }
   ],
   "source": [
    "for i in range(1, 6):\n",
    "    if i == 3:\n",
    "        break\n",
    "    print(i)\n"
   ]
  },
  {
   "cell_type": "code",
   "execution_count": 19,
   "id": "773faed4",
   "metadata": {},
   "outputs": [
    {
     "name": "stdout",
     "output_type": "stream",
     "text": [
      "1\n",
      "2\n",
      "4\n",
      "5\n"
     ]
    }
   ],
   "source": [
    "for i in range(1, 6):\n",
    "    if i == 3:\n",
    "        continue\n",
    "    print(i)\n"
   ]
  },
  {
   "cell_type": "markdown",
   "id": "a3e37e56",
   "metadata": {},
   "source": [
    "11. In a for loop, what is the difference between range(10), range(0, 10), and range(0, 10, 1)?"
   ]
  },
  {
   "cell_type": "markdown",
   "id": "a1c4df7a",
   "metadata": {},
   "source": [
    "ANS:\n",
    "range(10):\n",
    "\n",
    "This form of the range() function specifies only the stop value.\n",
    "It generates a sequence of numbers starting from 0 (default start value) up to, but not including, the specified stop value.\n",
    "The step value is implicitly assumed as 1 (default step value)."
   ]
  },
  {
   "cell_type": "code",
   "execution_count": 20,
   "id": "3cffec3f",
   "metadata": {},
   "outputs": [
    {
     "name": "stdout",
     "output_type": "stream",
     "text": [
      "0\n",
      "1\n",
      "2\n",
      "3\n",
      "4\n",
      "5\n",
      "6\n",
      "7\n",
      "8\n",
      "9\n"
     ]
    }
   ],
   "source": [
    "for i in range(10):\n",
    "    print(i)\n"
   ]
  },
  {
   "cell_type": "markdown",
   "id": "2d9a4959",
   "metadata": {},
   "source": [
    "In this example, the for loop iterates over the sequence of numbers generated by range(10), which includes numbers from 0 to 9.\n",
    "\n",
    "range(0, 10):\n",
    "\n",
    "This form of the range() function specifies both the start and stop values.\n",
    "It generates a sequence of numbers starting from the specified start value up to, but not including, the specified stop value.\n",
    "The step value is implicitly assumed as 1 (default step value)."
   ]
  },
  {
   "cell_type": "code",
   "execution_count": 21,
   "id": "16615770",
   "metadata": {},
   "outputs": [
    {
     "name": "stdout",
     "output_type": "stream",
     "text": [
      "0\n",
      "1\n",
      "2\n",
      "3\n",
      "4\n",
      "5\n",
      "6\n",
      "7\n",
      "8\n",
      "9\n"
     ]
    }
   ],
   "source": [
    "for i in range(0, 10):\n",
    "    print(i)\n"
   ]
  },
  {
   "cell_type": "markdown",
   "id": "ba5912d8",
   "metadata": {},
   "source": [
    "The result is the same as the previous example since the start value is explicitly specified as 0.\n",
    "\n",
    "range(0, 10, 1):\n",
    "\n",
    "This form of the range() function specifies both the start and stop values, as well as the step value.\n",
    "It generates a sequence of numbers starting from the specified start value, incrementing by the specified step value, until it rea"
   ]
  },
  {
   "cell_type": "code",
   "execution_count": 22,
   "id": "c0d2bbb9",
   "metadata": {},
   "outputs": [
    {
     "name": "stdout",
     "output_type": "stream",
     "text": [
      "0\n",
      "1\n",
      "2\n",
      "3\n",
      "4\n",
      "5\n",
      "6\n",
      "7\n",
      "8\n",
      "9\n"
     ]
    }
   ],
   "source": [
    "for i in range(0, 10, 1):\n",
    "    print(i)\n"
   ]
  },
  {
   "cell_type": "markdown",
   "id": "743e3010",
   "metadata": {},
   "source": [
    "The result is the same as the previous examples because the step value is explicitly specified as 1, which is the default step value.\n",
    "\n",
    "In summary, range(10), range(0, 10), and range(0, 10, 1) generate the same sequence of numbers from 0 to 9. The difference lies in the way the range() function is called, with variations in the start, stop, and step values provided as arguments.\n",
    "\n",
    "\n",
    "\n",
    "\n"
   ]
  },
  {
   "cell_type": "markdown",
   "id": "27161c4c",
   "metadata": {},
   "source": [
    "12. Write a short program that prints the numbers 1 to 10 using a for loop. Then write an equivalent program that prints the numbers 1 to 10 using a while loop."
   ]
  },
  {
   "cell_type": "code",
   "execution_count": 23,
   "id": "b85a487e",
   "metadata": {},
   "outputs": [
    {
     "name": "stdout",
     "output_type": "stream",
     "text": [
      "1\n",
      "2\n",
      "3\n",
      "4\n",
      "5\n",
      "6\n",
      "7\n",
      "8\n",
      "9\n",
      "10\n"
     ]
    }
   ],
   "source": [
    "i = 1\n",
    "while i <= 10:\n",
    "    print(i)\n",
    "    i += 1\n"
   ]
  },
  {
   "cell_type": "markdown",
   "id": "6ec3b9e7",
   "metadata": {},
   "source": [
    "13. If you had a function named bacon() inside a module named spam, how would you call it after importing spam?"
   ]
  },
  {
   "cell_type": "markdown",
   "id": "641d3bda",
   "metadata": {},
   "source": [
    "After importing the module named \"spam\" that contains a function named \"bacon()\", you can call the \"bacon()\" function using the dot notation. Here's how you would do it:\n",
    "\n",
    "```python\n",
    "import spam\n",
    "\n",
    "spam.bacon()\n",
    "```\n",
    "\n",
    ", the `import spam` statement imports the \"spam\" module into your current Python script or program. The `spam.bacon()` line calls the \"bacon()\" function from the \"spam\" module using the dot notation. By prefixing the function name with the module name and a dot (`spam.`), you can access and call functions defined within that module.\n",
    "\n",
    "Make sure that the module file (spam.py) is in the same directory as your script or in a directory included in the Python module search path. This way, Python can locate and import the \"spam\" module correctly."
   ]
  },
  {
   "cell_type": "code",
   "execution_count": null,
   "id": "54ba2cbd",
   "metadata": {},
   "outputs": [],
   "source": []
  },
  {
   "cell_type": "code",
   "execution_count": null,
   "id": "addfce6c",
   "metadata": {},
   "outputs": [],
   "source": []
  },
  {
   "cell_type": "code",
   "execution_count": null,
   "id": "a9d84902",
   "metadata": {},
   "outputs": [],
   "source": []
  },
  {
   "cell_type": "code",
   "execution_count": null,
   "id": "f385d8db",
   "metadata": {},
   "outputs": [],
   "source": []
  },
  {
   "cell_type": "code",
   "execution_count": null,
   "id": "11ef8ef0",
   "metadata": {},
   "outputs": [],
   "source": []
  },
  {
   "cell_type": "code",
   "execution_count": null,
   "id": "46dd01cb",
   "metadata": {},
   "outputs": [],
   "source": []
  }
 ],
 "metadata": {
  "kernelspec": {
   "display_name": "Python 3",
   "language": "python",
   "name": "python3"
  },
  "language_info": {
   "codemirror_mode": {
    "name": "ipython",
    "version": 3
   },
   "file_extension": ".py",
   "mimetype": "text/x-python",
   "name": "python",
   "nbconvert_exporter": "python",
   "pygments_lexer": "ipython3",
   "version": "3.8.8"
  }
 },
 "nbformat": 4,
 "nbformat_minor": 5
}
